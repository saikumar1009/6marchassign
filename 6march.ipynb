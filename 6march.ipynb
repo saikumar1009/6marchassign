{
 "cells": [
  {
   "cell_type": "markdown",
   "id": "407a40e2",
   "metadata": {},
   "source": [
    "#Q1.What is Statistics?\n",
    "Statistics is the study of the collection, analysis, interpretation, presentation, and organization of data. In other words, it is a mathematical discipline to collect, summarize data.Statistics is simply defined as the study and manipulation of data.\n",
    "Some of the real-life examples of statistics are:\n",
    "To find the mean of the marks obtained by each student in the class whose strength is 50. The average value here is the statistics of the marks obtained.\n"
   ]
  },
  {
   "cell_type": "markdown",
   "id": "279c0bbe",
   "metadata": {},
   "source": [
    "#Q2. Define the different types of statistics and give an example of when each type might be used.\n",
    "Basically, there are two types of statistics.\n",
    "1.Descriptive Statistics\n",
    "2.Inferential Statistics\n",
    "\n",
    "1.Descriptive Statistics\n",
    "The data is summarised and explained in descriptive statistics. The summarization is done from a population sample utilising several factors such as mean and standard deviation. Descriptive statistics is a way of organising, representing, and explaining a set of data using charts, graphs, and summary measures. \n",
    "Example:student’s grade point average (GPA)\n",
    "2.Inferential Statistics\n",
    "Inferential statistics are used to test hypotheses and study correlations between variables, and they can also be used to predict population sizes. Inferential statistics are used to derive conclusions and inferences from samples, i.e. to create accurate generalisations.\n",
    "Example: Hypothesis testing and regression analysis."
   ]
  },
  {
   "cell_type": "markdown",
   "id": "9d38b1b1",
   "metadata": {},
   "source": [
    "#Q3. What are the different types of data and how do they differ from each other? Provide an example of each type of data.\n",
    "1.Qualitative or Categorical Data\n",
    "Qualitative data, also known as the categorical data, describes the data that fits into the categories. Qualitative data are not numerical. The categorical information involves categorical variables that describe the features such as a person’s gender, home town etc. Categorical measures are defined in terms of natural language specifications, but not in terms of numbers.\n",
    "(i)Nominal Data\n",
    "Nominal data is one of the types of qualitative information which helps to label the variables without providing the numerical value. Nominal data is also called the nominal scale. It cannot be ordered and measured. But sometimes, the data can be qualitative and quantitative. Examples of nominal data are letters, symbols, words, gender etc.\n",
    "(ii)Ordinal Data\n",
    "Ordinal data/variable is a type of data that follows a natural order. The significant feature of the nominal data is that the difference between the data values is not determined. This variable is mostly found in surveys, finance, economics, questionnaires, and so on.\n",
    "2.Quantitative or Numerical Data\n",
    "Quantitative data is also known as numerical data which represents the numerical value (i.e., how much, how often, how many). Numerical data gives information about the quantities of a specific thing. Some examples of numerical data are height, length, size, weight, and so on. \n",
    "(i)Discrete Data\n",
    "Discrete data can take only discrete values. Discrete information contains only a finite number of possible values. Those values cannot be subdivided meaningfully. Here, things can be counted in whole numbers.\n",
    "Example: Number of students in the class\n",
    "(ii)Continuous Data\n",
    "Continuous data is data that can be calculated. It has an infinite number of probable values that can be selected within a given specific range.\n",
    "Example: Temperature range"
   ]
  },
  {
   "cell_type": "markdown",
   "id": "b985ec92",
   "metadata": {},
   "source": [
    "#Q4. Categorise the following datasets with respect to quantitative and qualitative data types:\n",
    "(i) Grading in exam: A+, A, B+, B, C+, C, D, E\n",
    "   - Qualitative data\n",
    "(ii) Colour of mangoes: yellow, green, orange, red\n",
    "   - Qualitative data\n",
    "(iii) Height data of a class: [178.9, 179, 179.5, 176, 177.2, 178.3, 175.8,...]\n",
    "   -  Quantitative data\n",
    "(iv) Number of mangoes exported by a farm: [500, 600, 478, 672, ...]\n",
    "   - Quantitative data"
   ]
  },
  {
   "cell_type": "markdown",
   "id": "e456a083",
   "metadata": {},
   "source": [
    "#Q5. Explain the concept of levels of measurement and give an example of a variable for each level.\n",
    "Levels of measurement, also called scales of measurement, tell you how precisely variables are recorded. In scientific research, a variable is anything that can take on different values across your data set (e.g., height or test scores).\n",
    "There are 4 levels of measurement:\n",
    "1.Nominal: the data can only be categorized\n",
    "Examples:City of birth,Gender,Ethnicity,Car brands\n",
    "2.Ordinal: the data can be categorized and ranked\n",
    "Examples:Top 5 Olympic medallists,Language ability\n",
    "3.Interval: the data can be categorized, ranked, and evenly spaced\n",
    "Examples:Personality inventories,Temperature in Fahrenheit or Celsius\n",
    "4.Ratio: the data can be categorized, ranked, evenly spaced, and has a natural zero.\n",
    "Examples:Height,Age,Weight"
   ]
  },
  {
   "cell_type": "markdown",
   "id": "6ada81d5",
   "metadata": {},
   "source": [
    "#Q6. Why is it important to understand the level of measurement when analyzing data? Provide anexample to illustrate your answer.\n",
    "It is important to understand the level of measurement of variables in research, because the level of measurement determines the type of statistical analysis that can be conducted, and, therefore, the type of conclusions that can be drawn from the research.\n",
    "Knowing the level of measurement of your variables is important for two reasons. Each of the levels of measurement provides a different level of detail. Nominal provides the least amount of detail, ordinal provides the next highest amount of detail, and interval and ratio provide the most amount of detail.\n",
    "For example, an interval level of measurement could be the measurement of anxiety in a student between the score of 10 and 11, this interval is the same as that of a student who scores between 40 and 41."
   ]
  },
  {
   "cell_type": "markdown",
   "id": "fe3bf685",
   "metadata": {},
   "source": [
    "#Q7. How nominal data type is different from ordinal data type.\n",
    "Nominal level:\n",
    "You can categorize your data by labelling them in mutually exclusive groups, but there is no order between the categories.\n",
    "The data can be categorized.\n",
    "Examples:City of birth,Gender,Ethnicity,Car brands\n",
    "Ordinal level:\n",
    "You can categorize and rank your data in an order, but you cannot say anything about the intervals between the rankings.\n",
    "Although you can rank the top 5 Olympic medallists, this scale does not tell you how close or far apart they are in number of wins.\n",
    "Examples:Top 5 Olympic medallists,Language ability\n"
   ]
  },
  {
   "cell_type": "markdown",
   "id": "e233ccd2",
   "metadata": {},
   "source": [
    "#Q8. Which type of plot can be used to display data in terms of range?\n",
    "Histograms show the distribution of a quantitative variable by using bars\n",
    "whose height represents the number of individuals whose values fall within a\n",
    "specific range.\n",
    "A histogram displays the distribution of a quantitative variable.\n",
    "It shows what values the variable takes and how often it takes those values.\n",
    "However, a histogram does not display individual values"
   ]
  },
  {
   "cell_type": "markdown",
   "id": "737d2658",
   "metadata": {},
   "source": [
    "#Q9. Describe the difference between descriptive and inferential statistics. Give an example of each\n",
    "type of statistics and explain how they are used.\n",
    "Basically, there are two types of statistics.\n",
    "1.Descriptive Statistics\n",
    "2.Inferential Statistics\n",
    "\n",
    "1.Descriptive Statistics\n",
    "The data is summarised and explained in descriptive statistics. The summarization is done from a population sample utilising several factors such as mean and standard deviation. Descriptive statistics is a way of organising, representing, and explaining a set of data using charts, graphs, and summary measures. \n",
    "Example:student’s grade point average (GPA)\n",
    "2.Inferential Statistics\n",
    "Inferential statistics are used to test hypotheses and study correlations between variables, and they can also be used to predict population sizes. Inferential statistics are used to derive conclusions and inferences from samples, i.e. to create accurate generalisations.\n",
    "Example: Hypothesis testing and regression analysis."
   ]
  },
  {
   "cell_type": "markdown",
   "id": "e4449de8",
   "metadata": {},
   "source": [
    "#Q10. What are some common measures of central tendency and variability used in statistics? Explain\n",
    "how each measure can be used to describe a dataset.\n",
    "\n",
    "Measures of central tendency help you find the middle, or the average, of a dataset. The 3 most common measures of central tendency are the mode, median, and mean.\n",
    "(1)Mode: the most frequent value.t’s possible to have no mode, one mode, or more than one mode.The mode is most applicable to data from a nominal level of measurement. Nominal data is classified into mutually exclusive categories, so the mode tells you the most popular category.To find the mode, sort your dataset numerically or categorically and select the response that occurs most frequently.\n",
    "(2)Median: the middle number in an ordered dataset.The median of a dataset is the value that’s exactly in the middle when it is ordered from low to high.\n",
    "(3)Mean: the sum of all values divided by the total number of values.The arithmetic mean of a dataset (which is different from the geometric mean) is the sum of all values divided by the total number of values. It’s the most commonly used measure of central tendency because all values are used in the calculation.\n",
    "\n",
    "Measures of Variability\n",
    " (1)Range:\n",
    "The range is the difference between the highest and lowest scores in a data set and is the simplest measure of spread. We calculate range by subtracting the smallest value from the largest value. \n",
    "(2)Quartiles and the Interquartile Range\n",
    "\"Quartile\" is yet another word that stats geeks use to make themselves feel important. It basically means \"quarter\" or \"fourth.\" A football game has four quartiles, as does a king-size Twix. Finding the quartiles of a distribution is as simple as breaking it up into fourths. Each fourth contains 25 percent of the total number of observations.\n",
    "(3)Variance\n",
    "The variance is a measure of variability that represents on how far each observation falls from the mean of the distribution\n",
    "(4)Standard Deviation\n",
    "However, one limitation to using the variance as our only measure of variability. When we square the numbers to get rid of the negatives (step 3), we also inadvertently square our unit of measurement. In other words, if we were talking about miles, we accidentally turned our unit of measurement into miles squared."
   ]
  }
 ],
 "metadata": {
  "kernelspec": {
   "display_name": "Python 3 (ipykernel)",
   "language": "python",
   "name": "python3"
  },
  "language_info": {
   "codemirror_mode": {
    "name": "ipython",
    "version": 3
   },
   "file_extension": ".py",
   "mimetype": "text/x-python",
   "name": "python",
   "nbconvert_exporter": "python",
   "pygments_lexer": "ipython3",
   "version": "3.9.12"
  }
 },
 "nbformat": 4,
 "nbformat_minor": 5
}
